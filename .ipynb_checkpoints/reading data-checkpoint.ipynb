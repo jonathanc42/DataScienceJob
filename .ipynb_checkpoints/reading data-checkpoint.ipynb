{
 "cells": [
  {
   "cell_type": "code",
   "execution_count": 1,
   "metadata": {
    "ExecuteTime": {
     "end_time": "2018-12-30T18:20:01.817892Z",
     "start_time": "2018-12-30T18:20:01.177182Z"
    }
   },
   "outputs": [],
   "source": [
    "import pandas as pd\n",
    "import matplotlib.pyplot as plt\n",
    "%matplotlib inline"
   ]
  },
  {
   "cell_type": "code",
   "execution_count": 17,
   "metadata": {
    "ExecuteTime": {
     "end_time": "2018-12-30T18:26:59.070425Z",
     "start_time": "2018-12-30T18:26:59.033440Z"
    },
    "scrolled": false
   },
   "outputs": [
    {
     "name": "stdout",
     "output_type": "stream",
     "text": [
      "<class 'pandas.core.frame.DataFrame'>\n",
      "RangeIndex: 547 entries, 0 to 546\n",
      "Data columns (total 5 columns):\n",
      "company     547 non-null object\n",
      "desc        547 non-null object\n",
      "link        547 non-null object\n",
      "location    547 non-null object\n",
      "title       547 non-null object\n",
      "dtypes: object(5)\n",
      "memory usage: 21.4+ KB\n",
      "None\n"
     ]
    },
    {
     "data": {
      "text/html": [
       "<div>\n",
       "<style scoped>\n",
       "    .dataframe tbody tr th:only-of-type {\n",
       "        vertical-align: middle;\n",
       "    }\n",
       "\n",
       "    .dataframe tbody tr th {\n",
       "        vertical-align: top;\n",
       "    }\n",
       "\n",
       "    .dataframe thead th {\n",
       "        text-align: right;\n",
       "    }\n",
       "</style>\n",
       "<table border=\"1\" class=\"dataframe\">\n",
       "  <thead>\n",
       "    <tr style=\"text-align: right;\">\n",
       "      <th></th>\n",
       "      <th>company</th>\n",
       "      <th>desc</th>\n",
       "      <th>link</th>\n",
       "      <th>location</th>\n",
       "      <th>title</th>\n",
       "    </tr>\n",
       "  </thead>\n",
       "  <tbody>\n",
       "    <tr>\n",
       "      <th>0</th>\n",
       "      <td>Pairwise</td>\n",
       "      <td>Overview\\nPairwise believes healthy food shoul...</td>\n",
       "      <td>https://www.indeed.com/viewjob?jk=73ab6e070c37...</td>\n",
       "      <td>Pairwise-Raleigh-Durham, NC</td>\n",
       "      <td>Data and Visual Analytics Engineer</td>\n",
       "    </tr>\n",
       "    <tr>\n",
       "      <th>1</th>\n",
       "      <td>Proofpoint</td>\n",
       "      <td>Company Overview\\nAt Proofpoint, we have a pas...</td>\n",
       "      <td>https://www.indeed.com/viewjob?jk=4fd6e1706ad3...</td>\n",
       "      <td>Proofpoint29 reviews-Raleigh, NC</td>\n",
       "      <td>Senior Data Scientist</td>\n",
       "    </tr>\n",
       "    <tr>\n",
       "      <th>2</th>\n",
       "      <td>Duke University</td>\n",
       "      <td>We are looking for a Postdoctoral Associate wi...</td>\n",
       "      <td>https://www.indeed.com/cmp/Duke-University/job...</td>\n",
       "      <td>Duke University859 reviews-Durham, NC</td>\n",
       "      <td>Postdoctoral Associate in Machine Learning for...</td>\n",
       "    </tr>\n",
       "    <tr>\n",
       "      <th>3</th>\n",
       "      <td>State of North Carolina</td>\n",
       "      <td>$55,000 - $75,000 a yearThis position has been...</td>\n",
       "      <td>https://www.indeed.com/viewjob?jk=bce2378117d1...</td>\n",
       "      <td>State of North Carolina208 reviews-Wake County...</td>\n",
       "      <td>Business Analyst</td>\n",
       "    </tr>\n",
       "    <tr>\n",
       "      <th>4</th>\n",
       "      <td>Kitware</td>\n",
       "      <td>InternshipJob Description:\\nKitware is develop...</td>\n",
       "      <td>https://www.indeed.com/viewjob?jk=2d541f2987ac...</td>\n",
       "      <td>Kitware-Carrboro, NC 27510</td>\n",
       "      <td>Research and Development Engineer - Machine Le...</td>\n",
       "    </tr>\n",
       "  </tbody>\n",
       "</table>\n",
       "</div>"
      ],
      "text/plain": [
       "                   company                                               desc  \\\n",
       "0                 Pairwise  Overview\\nPairwise believes healthy food shoul...   \n",
       "1               Proofpoint  Company Overview\\nAt Proofpoint, we have a pas...   \n",
       "2          Duke University  We are looking for a Postdoctoral Associate wi...   \n",
       "3  State of North Carolina  $55,000 - $75,000 a yearThis position has been...   \n",
       "4                  Kitware  InternshipJob Description:\\nKitware is develop...   \n",
       "\n",
       "                                                link  \\\n",
       "0  https://www.indeed.com/viewjob?jk=73ab6e070c37...   \n",
       "1  https://www.indeed.com/viewjob?jk=4fd6e1706ad3...   \n",
       "2  https://www.indeed.com/cmp/Duke-University/job...   \n",
       "3  https://www.indeed.com/viewjob?jk=bce2378117d1...   \n",
       "4  https://www.indeed.com/viewjob?jk=2d541f2987ac...   \n",
       "\n",
       "                                            location  \\\n",
       "0                        Pairwise-Raleigh-Durham, NC   \n",
       "1                   Proofpoint29 reviews-Raleigh, NC   \n",
       "2              Duke University859 reviews-Durham, NC   \n",
       "3  State of North Carolina208 reviews-Wake County...   \n",
       "4                         Kitware-Carrboro, NC 27510   \n",
       "\n",
       "                                               title  \n",
       "0                 Data and Visual Analytics Engineer  \n",
       "1                              Senior Data Scientist  \n",
       "2  Postdoctoral Associate in Machine Learning for...  \n",
       "3                                   Business Analyst  \n",
       "4  Research and Development Engineer - Machine Le...  "
      ]
     },
     "execution_count": 17,
     "metadata": {},
     "output_type": "execute_result"
    }
   ],
   "source": [
    "data_json = pd.read_json('datasciencejob/scrapy-bs4-1000.json')\n",
    "print(data_json.info())\n",
    "data_json.head()"
   ]
  },
  {
   "cell_type": "code",
   "execution_count": 18,
   "metadata": {
    "ExecuteTime": {
     "end_time": "2018-12-30T18:27:01.827779Z",
     "start_time": "2018-12-30T18:27:01.793916Z"
    },
    "scrolled": true
   },
   "outputs": [
    {
     "name": "stdout",
     "output_type": "stream",
     "text": [
      "<class 'pandas.core.frame.DataFrame'>\n",
      "Int64Index: 488 entries, 0 to 487\n",
      "Data columns (total 5 columns):\n",
      "title      488 non-null object\n",
      "company    488 non-null object\n",
      "city       488 non-null object\n",
      "state      488 non-null object\n",
      "desc       488 non-null object\n",
      "dtypes: object(5)\n",
      "memory usage: 22.9+ KB\n",
      "None\n"
     ]
    },
    {
     "data": {
      "text/html": [
       "<div>\n",
       "<style scoped>\n",
       "    .dataframe tbody tr th:only-of-type {\n",
       "        vertical-align: middle;\n",
       "    }\n",
       "\n",
       "    .dataframe tbody tr th {\n",
       "        vertical-align: top;\n",
       "    }\n",
       "\n",
       "    .dataframe thead th {\n",
       "        text-align: right;\n",
       "    }\n",
       "</style>\n",
       "<table border=\"1\" class=\"dataframe\">\n",
       "  <thead>\n",
       "    <tr style=\"text-align: right;\">\n",
       "      <th></th>\n",
       "      <th>title</th>\n",
       "      <th>company</th>\n",
       "      <th>city</th>\n",
       "      <th>state</th>\n",
       "      <th>desc</th>\n",
       "    </tr>\n",
       "  </thead>\n",
       "  <tbody>\n",
       "    <tr>\n",
       "      <th>0</th>\n",
       "      <td>Data Scientist</td>\n",
       "      <td>Veritude</td>\n",
       "      <td>Durham</td>\n",
       "      <td>NC</td>\n",
       "      <td>TemporaryVeritude is seeking Data Scientist fo...</td>\n",
       "    </tr>\n",
       "    <tr>\n",
       "      <th>1</th>\n",
       "      <td>Data Reviewer - Extractables &amp; Leachables</td>\n",
       "      <td>Kelly Services</td>\n",
       "      <td>Morrisville</td>\n",
       "      <td>NC</td>\n",
       "      <td>Temporary, ContractKelly Services is currently...</td>\n",
       "    </tr>\n",
       "    <tr>\n",
       "      <th>2</th>\n",
       "      <td>Marketing Data Scientist</td>\n",
       "      <td>Profiles</td>\n",
       "      <td>Durham</td>\n",
       "      <td>NC</td>\n",
       "      <td>ContractA global investment firm with offices ...</td>\n",
       "    </tr>\n",
       "    <tr>\n",
       "      <th>3</th>\n",
       "      <td>Data Visualization Developer</td>\n",
       "      <td>NTT DATA Services</td>\n",
       "      <td>Durham</td>\n",
       "      <td>NC</td>\n",
       "      <td>Req ID: 32805\\nAt NTT DATA Services, we know t...</td>\n",
       "    </tr>\n",
       "    <tr>\n",
       "      <th>4</th>\n",
       "      <td>Data Architect</td>\n",
       "      <td>Covance</td>\n",
       "      <td>Research Triangle Park</td>\n",
       "      <td>Triangle</td>\n",
       "      <td>Job Overview\\nSearching for an experienced Dat...</td>\n",
       "    </tr>\n",
       "  </tbody>\n",
       "</table>\n",
       "</div>"
      ],
      "text/plain": [
       "                                       title            company  \\\n",
       "0                             Data Scientist           Veritude   \n",
       "1  Data Reviewer - Extractables & Leachables     Kelly Services   \n",
       "2                   Marketing Data Scientist           Profiles   \n",
       "3               Data Visualization Developer  NTT DATA Services   \n",
       "4                             Data Architect            Covance   \n",
       "\n",
       "                     city     state  \\\n",
       "0                  Durham        NC   \n",
       "1             Morrisville        NC   \n",
       "2                  Durham        NC   \n",
       "3                  Durham        NC   \n",
       "4  Research Triangle Park  Triangle   \n",
       "\n",
       "                                                desc  \n",
       "0  TemporaryVeritude is seeking Data Scientist fo...  \n",
       "1  Temporary, ContractKelly Services is currently...  \n",
       "2  ContractA global investment firm with offices ...  \n",
       "3  Req ID: 32805\\nAt NTT DATA Services, we know t...  \n",
       "4  Job Overview\\nSearching for an experienced Dat...  "
      ]
     },
     "execution_count": 18,
     "metadata": {},
     "output_type": "execute_result"
    }
   ],
   "source": [
    "data_csv = pd.read_csv('datasciencejob/datasciencejob/indeed.csv', index_col = 0)\n",
    "print(data_csv.info())\n",
    "data_csv.head()"
   ]
  },
  {
   "cell_type": "code",
   "execution_count": 15,
   "metadata": {
    "ExecuteTime": {
     "end_time": "2018-12-30T18:26:36.060684Z",
     "start_time": "2018-12-30T18:26:36.057743Z"
    }
   },
   "outputs": [],
   "source": [
    "data = data_csv"
   ]
  },
  {
   "cell_type": "code",
   "execution_count": 19,
   "metadata": {
    "ExecuteTime": {
     "end_time": "2018-12-30T18:27:16.093401Z",
     "start_time": "2018-12-30T18:27:16.090183Z"
    }
   },
   "outputs": [],
   "source": [
    "data = data_json"
   ]
  },
  {
   "cell_type": "code",
   "execution_count": 23,
   "metadata": {
    "ExecuteTime": {
     "end_time": "2018-12-30T18:28:15.949632Z",
     "start_time": "2018-12-30T18:28:15.606075Z"
    },
    "scrolled": false
   },
   "outputs": [
    {
     "data": {
      "text/plain": [
       "<matplotlib.axes._subplots.AxesSubplot at 0x115cb9978>"
      ]
     },
     "execution_count": 23,
     "metadata": {},
     "output_type": "execute_result"
    },
    {
     "data": {
      "image/png": "[encoded data removed]",
      "text/plain": [
       "<Figure size 432x288 with 1 Axes>"
      ]
     },
     "metadata": {},
     "output_type": "display_data"
    }
   ],
   "source": [
    "data.company.value_counts().sort_values().tail(20).plot(kind='barh')"
   ]
  },
  {
   "cell_type": "code",
   "execution_count": 29,
   "metadata": {
    "ExecuteTime": {
     "end_time": "2018-12-30T18:29:19.861642Z",
     "start_time": "2018-12-30T18:29:19.849339Z"
    },
    "scrolled": false
   },
   "outputs": [
    {
     "name": "stdout",
     "output_type": "stream",
     "text": [
      "<class 'pandas.core.frame.DataFrame'>\n",
      "Int64Index: 12 entries, 0 to 217\n",
      "Data columns (total 5 columns):\n",
      "title      12 non-null object\n",
      "company    12 non-null object\n",
      "city       12 non-null object\n",
      "state      12 non-null object\n",
      "desc       12 non-null object\n",
      "dtypes: object(5)\n",
      "memory usage: 576.0+ bytes\n"
     ]
    }
   ],
   "source": [
    "data_csv.drop_duplicates().info()"
   ]
  },
  {
   "cell_type": "code",
   "execution_count": 30,
   "metadata": {
    "ExecuteTime": {
     "end_time": "2018-12-30T18:29:40.226712Z",
     "start_time": "2018-12-30T18:29:40.211976Z"
    },
    "scrolled": true
   },
   "outputs": [
    {
     "name": "stdout",
     "output_type": "stream",
     "text": [
      "<class 'pandas.core.frame.DataFrame'>\n",
      "Int64Index: 547 entries, 0 to 546\n",
      "Data columns (total 5 columns):\n",
      "company     547 non-null object\n",
      "desc        547 non-null object\n",
      "link        547 non-null object\n",
      "location    547 non-null object\n",
      "title       547 non-null object\n",
      "dtypes: object(5)\n",
      "memory usage: 25.6+ KB\n"
     ]
    }
   ],
   "source": [
    "data_json.drop_duplicates().info()"
   ]
  }
 ],
 "metadata": {
  "kernelspec": {
   "display_name": "Python 3",
   "language": "python",
   "name": "python3"
  },
  "language_info": {
   "codemirror_mode": {
    "name": "ipython",
    "version": 3
   },
   "file_extension": ".py",
   "mimetype": "text/x-python",
   "name": "python",
   "nbconvert_exporter": "python",
   "pygments_lexer": "ipython3",
   "version": "3.6.6"
  },
  "toc": {
   "base_numbering": 1,
   "nav_menu": {},
   "number_sections": true,
   "sideBar": true,
   "skip_h1_title": false,
   "title_cell": "Table of Contents",
   "title_sidebar": "Contents",
   "toc_cell": false,
   "toc_position": {},
   "toc_section_display": true,
   "toc_window_display": false
  },
  "varInspector": {
   "cols": {
    "lenName": 16,
    "lenType": 16,
    "lenVar": 40
   },
   "kernels_config": {
    "python": {
     "delete_cmd_postfix": "",
     "delete_cmd_prefix": "del ",
     "library": "var_list.py",
     "varRefreshCmd": "print(var_dic_list())"
    },
    "r": {
     "delete_cmd_postfix": ") ",
     "delete_cmd_prefix": "rm(",
     "library": "var_list.r",
     "varRefreshCmd": "cat(var_dic_list()) "
    }
   },
   "types_to_exclude": [
    "module",
    "function",
    "builtin_function_or_method",
    "instance",
    "_Feature"
   ],
   "window_display": false
  }
 },
 "nbformat": 4,
 "nbformat_minor": 2
}
