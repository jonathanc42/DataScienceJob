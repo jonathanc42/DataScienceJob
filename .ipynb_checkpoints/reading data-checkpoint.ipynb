{
 "cells": [
  {
   "cell_type": "code",
   "execution_count": 38,
   "metadata": {
    "ExecuteTime": {
     "end_time": "2018-12-30T18:41:21.761477Z",
     "start_time": "2018-12-30T18:41:19.282060Z"
    }
   },
   "outputs": [
    {
     "data": {
      "application/javascript": [
       "if (!(\"Notification\" in window)) {\n",
       "    alert(\"This browser does not support desktop notifications, so the %%notify magic will not work.\");\n",
       "} else if (Notification.permission !== 'granted' && Notification.permission !== 'denied') {\n",
       "    Notification.requestPermission(function (permission) {\n",
       "        if(!('permission' in Notification)) {\n",
       "            Notification.permission = permission;\n",
       "        }\n",
       "    })\n",
       "}\n"
      ],
      "text/plain": [
       "<IPython.core.display.Javascript object>"
      ]
     },
     "metadata": {},
     "output_type": "display_data"
    }
   ],
   "source": [
    "import pandas as pd\n",
    "import re\n",
    "import string\n",
    "import numpy as np\n",
    "from sentiment_module import sentiment\n",
    "from sklearn.linear_model import LogisticRegression\n",
    "import matplotlib.pyplot as plt\n",
    "%matplotlib inline\n",
    "import nltk\n",
    "from nltk.corpus import gutenberg\n",
    "from pprint import pprint\n",
    "import seaborn as sns\n",
    "%load_ext jupyternotify"
   ]
  },
  {
   "cell_type": "code",
   "execution_count": 84,
   "metadata": {
    "ExecuteTime": {
     "end_time": "2018-12-30T19:20:54.784682Z",
     "start_time": "2018-12-30T19:20:54.726152Z"
    },
    "scrolled": true
   },
   "outputs": [
    {
     "name": "stdout",
     "output_type": "stream",
     "text": [
      "<class 'pandas.core.frame.DataFrame'>\n",
      "RangeIndex: 1105 entries, 0 to 1104\n",
      "Data columns (total 5 columns):\n",
      "company     1105 non-null object\n",
      "desc        1105 non-null object\n",
      "link        1105 non-null object\n",
      "location    1105 non-null object\n",
      "title       1105 non-null object\n",
      "dtypes: object(5)\n",
      "memory usage: 43.2+ KB\n",
      "None\n",
      "<class 'pandas.core.frame.DataFrame'>\n",
      "Int64Index: 345 entries, 0 to 828\n",
      "Data columns (total 5 columns):\n",
      "company     345 non-null object\n",
      "desc        345 non-null object\n",
      "link        345 non-null object\n",
      "location    345 non-null object\n",
      "title       345 non-null object\n",
      "dtypes: object(5)\n",
      "memory usage: 16.2+ KB\n"
     ]
    }
   ],
   "source": [
    "data_NC = pd.read_json('datasciencejob/scrapy-NC.json')\n",
    "print(data_NC.info())\n",
    "data = data_NC.drop_duplicates('desc')\n",
    "data.info()"
   ]
  },
  {
   "cell_type": "code",
   "execution_count": 82,
   "metadata": {
    "ExecuteTime": {
     "end_time": "2018-12-30T19:18:39.716384Z",
     "start_time": "2018-12-30T19:18:39.670700Z"
    },
    "scrolled": true
   },
   "outputs": [
    {
     "name": "stdout",
     "output_type": "stream",
     "text": [
      "<class 'pandas.core.frame.DataFrame'>\n",
      "RangeIndex: 547 entries, 0 to 546\n",
      "Data columns (total 5 columns):\n",
      "company     547 non-null object\n",
      "desc        547 non-null object\n",
      "link        547 non-null object\n",
      "location    547 non-null object\n",
      "title       547 non-null object\n",
      "dtypes: object(5)\n",
      "memory usage: 21.4+ KB\n",
      "None\n"
     ]
    },
    {
     "data": {
      "text/html": [
       "<div>\n",
       "<style scoped>\n",
       "    .dataframe tbody tr th:only-of-type {\n",
       "        vertical-align: middle;\n",
       "    }\n",
       "\n",
       "    .dataframe tbody tr th {\n",
       "        vertical-align: top;\n",
       "    }\n",
       "\n",
       "    .dataframe thead th {\n",
       "        text-align: right;\n",
       "    }\n",
       "</style>\n",
       "<table border=\"1\" class=\"dataframe\">\n",
       "  <thead>\n",
       "    <tr style=\"text-align: right;\">\n",
       "      <th></th>\n",
       "      <th>company</th>\n",
       "      <th>desc</th>\n",
       "      <th>link</th>\n",
       "      <th>location</th>\n",
       "      <th>title</th>\n",
       "    </tr>\n",
       "  </thead>\n",
       "  <tbody>\n",
       "    <tr>\n",
       "      <th>0</th>\n",
       "      <td>Pairwise</td>\n",
       "      <td>Overview\\nPairwise believes healthy food shoul...</td>\n",
       "      <td>https://www.indeed.com/viewjob?jk=73ab6e070c37...</td>\n",
       "      <td>Pairwise-Raleigh-Durham, NC</td>\n",
       "      <td>Data and Visual Analytics Engineer</td>\n",
       "    </tr>\n",
       "    <tr>\n",
       "      <th>1</th>\n",
       "      <td>Proofpoint</td>\n",
       "      <td>Company Overview\\nAt Proofpoint, we have a pas...</td>\n",
       "      <td>https://www.indeed.com/viewjob?jk=4fd6e1706ad3...</td>\n",
       "      <td>Proofpoint29 reviews-Raleigh, NC</td>\n",
       "      <td>Senior Data Scientist</td>\n",
       "    </tr>\n",
       "    <tr>\n",
       "      <th>2</th>\n",
       "      <td>Duke University</td>\n",
       "      <td>We are looking for a Postdoctoral Associate wi...</td>\n",
       "      <td>https://www.indeed.com/cmp/Duke-University/job...</td>\n",
       "      <td>Duke University859 reviews-Durham, NC</td>\n",
       "      <td>Postdoctoral Associate in Machine Learning for...</td>\n",
       "    </tr>\n",
       "    <tr>\n",
       "      <th>3</th>\n",
       "      <td>State of North Carolina</td>\n",
       "      <td>$55,000 - $75,000 a yearThis position has been...</td>\n",
       "      <td>https://www.indeed.com/viewjob?jk=bce2378117d1...</td>\n",
       "      <td>State of North Carolina208 reviews-Wake County...</td>\n",
       "      <td>Business Analyst</td>\n",
       "    </tr>\n",
       "    <tr>\n",
       "      <th>4</th>\n",
       "      <td>Kitware</td>\n",
       "      <td>InternshipJob Description:\\nKitware is develop...</td>\n",
       "      <td>https://www.indeed.com/viewjob?jk=2d541f2987ac...</td>\n",
       "      <td>Kitware-Carrboro, NC 27510</td>\n",
       "      <td>Research and Development Engineer - Machine Le...</td>\n",
       "    </tr>\n",
       "  </tbody>\n",
       "</table>\n",
       "</div>"
      ],
      "text/plain": [
       "                   company                                               desc  \\\n",
       "0                 Pairwise  Overview\\nPairwise believes healthy food shoul...   \n",
       "1               Proofpoint  Company Overview\\nAt Proofpoint, we have a pas...   \n",
       "2          Duke University  We are looking for a Postdoctoral Associate wi...   \n",
       "3  State of North Carolina  $55,000 - $75,000 a yearThis position has been...   \n",
       "4                  Kitware  InternshipJob Description:\\nKitware is develop...   \n",
       "\n",
       "                                                link  \\\n",
       "0  https://www.indeed.com/viewjob?jk=73ab6e070c37...   \n",
       "1  https://www.indeed.com/viewjob?jk=4fd6e1706ad3...   \n",
       "2  https://www.indeed.com/cmp/Duke-University/job...   \n",
       "3  https://www.indeed.com/viewjob?jk=bce2378117d1...   \n",
       "4  https://www.indeed.com/viewjob?jk=2d541f2987ac...   \n",
       "\n",
       "                                            location  \\\n",
       "0                        Pairwise-Raleigh-Durham, NC   \n",
       "1                   Proofpoint29 reviews-Raleigh, NC   \n",
       "2              Duke University859 reviews-Durham, NC   \n",
       "3  State of North Carolina208 reviews-Wake County...   \n",
       "4                         Kitware-Carrboro, NC 27510   \n",
       "\n",
       "                                               title  \n",
       "0                 Data and Visual Analytics Engineer  \n",
       "1                              Senior Data Scientist  \n",
       "2  Postdoctoral Associate in Machine Learning for...  \n",
       "3                                   Business Analyst  \n",
       "4  Research and Development Engineer - Machine Le...  "
      ]
     },
     "execution_count": 82,
     "metadata": {},
     "output_type": "execute_result"
    }
   ],
   "source": [
    "data = pd.read_json('datasciencejob/scrapy-bs4-1000.json')\n",
    "print(data.info())\n",
    "data.head()"
   ]
  },
  {
   "cell_type": "code",
   "execution_count": 65,
   "metadata": {
    "ExecuteTime": {
     "end_time": "2018-12-30T18:54:09.539859Z",
     "start_time": "2018-12-30T18:54:09.529265Z"
    }
   },
   "outputs": [
    {
     "data": {
      "text/plain": [
       "Veritude                                             91\n",
       "Bandwidth                                            91\n",
       "First Citizens Bank & Trust Company                  89\n",
       "Hill-Rom                                             64\n",
       "NTT DATA Services                                    47\n",
       "Cengage                                              20\n",
       "Duke University and Duke University Health System    10\n",
       "IQVIA                                                 7\n",
       "Cisco                                                 4\n",
       "Resolvit, LLC                                         4\n",
       "Conduent                                              3\n",
       "Pairwise                                              3\n",
       "Syneos Health Clinical                                3\n",
       "IBM                                                   3\n",
       "Red Hat, Inc.                                         3\n",
       "Hewlett Packard Enterprise                            2\n",
       "Avalara                                               2\n",
       "CoreCompete                                           2\n",
       "Cigna                                                 2\n",
       "Omnicell                                              2\n",
       "DrugDev                                               2\n",
       "Credit Suisse                                         2\n",
       "Covance                                               2\n",
       "MetLife                                               2\n",
       "SSI                                                   2\n",
       "State of North Carolina                               2\n",
       "BB&T                                                  2\n",
       "Baebies, Inc.                                         2\n",
       "Applied Research Associates, Inc                      2\n",
       "einfini technologies                                  2\n",
       "                                                     ..\n",
       "BioClinica                                            1\n",
       "IHS Markit                                            1\n",
       "Corning                                               1\n",
       "FMI Corporation                                       1\n",
       "Kuehne + Nagel                                        1\n",
       "Russell Tobin                                         1\n",
       "CREE                                                  1\n",
       "Thermo Fisher Scientific                              1\n",
       "Ferguson Enterprises, Inc.                            1\n",
       "Proofpoint                                            1\n",
       "Pentair                                               1\n",
       "Accenture                                             1\n",
       "Affluent                                              1\n",
       "ektello                                               1\n",
       "Computer Task Group                                   1\n",
       "LexisNexis                                            1\n",
       "Connections IT Services                               1\n",
       "Xylem                                                 1\n",
       "Lunarline                                             1\n",
       "Matrix Resources                                      1\n",
       "Automated Insights                                    1\n",
       "Deloitte                                              1\n",
       "Options Group                                         1\n",
       "Lorven Technologies                                   1\n",
       "KBI Biopharma                                         1\n",
       "Duke Clinical Research Institute                      1\n",
       "North Carolina State University                       1\n",
       "DTG Consulting Solutions, Inc.                        1\n",
       "Google                                                1\n",
       "INE                                                   1\n",
       "Name: company, Length: 103, dtype: int64"
      ]
     },
     "execution_count": 65,
     "metadata": {},
     "output_type": "execute_result"
    }
   ],
   "source": [
    "data.company.value_counts()"
   ]
  },
  {
   "cell_type": "code",
   "execution_count": 75,
   "metadata": {
    "ExecuteTime": {
     "end_time": "2018-12-30T19:01:02.250756Z",
     "start_time": "2018-12-30T19:01:02.241896Z"
    }
   },
   "outputs": [
    {
     "data": {
      "text/plain": [
       "Data Scientist                                                              96\n",
       "Data Analyst, International                                                 90\n",
       "Data Loss Protection Engineer                                               89\n",
       "Senior Data Analytics R&D Engineer                                          64\n",
       "Data Scientist - Big Data                                                   42\n",
       "Senior Software Engineer (Machine Learning)                                 20\n",
       "Data Engineer                                                                9\n",
       "Big Data Engineer                                                            6\n",
       "Senior Big Data Engineer                                                     5\n",
       "Principal Big Data Engineer                                                  4\n",
       "Data Analyst                                                                 3\n",
       "Senior Data Scientist                                                        3\n",
       "Machine Learning Researcher                                                  2\n",
       "Data Science Developer                                                       2\n",
       "Data Loss Prevention Engineer                                                2\n",
       "Product Support Scientist/Engineer - POS ID 10080                            2\n",
       "Software Development Analyst 2                                               2\n",
       "Senior Machine Learning/Artificial Intelligence Engineer                     2\n",
       "Financial Analyst                                                            1\n",
       "Analyst - Data Analytics                                                     1\n",
       "Machine Learning Software Architect                                          1\n",
       "Developer Advocate, Data Science Education                                   1\n",
       "LAB RESEARCH ANALYST I - BEHAVIORAL NEUROLOGY                                1\n",
       "Senior Scientist Product Development                                         1\n",
       "Big Data Engineer, Technical Lead                                            1\n",
       "DLP Engineer - Data Loss Protection                                          1\n",
       "Project Management Analyst                                                   1\n",
       "LAB RESEARCH ANALYST, SENIOR - DEPT OF SURGERY                               1\n",
       "Tax Research Analyst                                                         1\n",
       "Data and Visual Analytics Engineer                                           1\n",
       "                                                                            ..\n",
       "Software Engineer - Data Protection                                          1\n",
       "Data warehouse Engineer I                                                    1\n",
       "Postdoctoral Associate in Machine Learning for Medical Imaging               1\n",
       "Workload & Operations Research Analyst                                       1\n",
       "Project Testing Analyst                                                      1\n",
       "Analyst III, Quality Control Research Cells                                  1\n",
       "Sponsor Solutions Business Analyst (Raleigh, NC)                             1\n",
       "Big Data Senior Analyst                                                      1\n",
       "Sr.Data Scientist                                                            1\n",
       "Workday Reporting Business Analyst                                           1\n",
       "Enterprise Data Scientist                                                    1\n",
       "Software Engineer- Data Services                                             1\n",
       "Python Machine Learning Analytics                                            1\n",
       "Sr. Big Data Engineer                                                        1\n",
       "DATA SCIENTIST AND TEAM LEAD (Data Analytics Practice)                       1\n",
       "Machine Learning Instructor                                                  1\n",
       "Data Platform Engineer                                                       1\n",
       "Data Scientist III                                                           1\n",
       "Sr. Data Scientist-Healthcare Quality                                        1\n",
       "1247982 - Data Center Routing and Switching Support Engineer                 1\n",
       "Marketing Data Scientist                                                     1\n",
       "Data Engineer - 18213515                                                     1\n",
       "Investigator Svcs Analyst 2                                                  1\n",
       "Data Science                                                                 1\n",
       "Sr Sponsor Contracts Analyst (Morrisville or Wilmington, NC)                 1\n",
       "Manufacturing Data Scientist                                                 1\n",
       "Product Application Scientist – GeoMx – Digital Spatial Profiling (East)     1\n",
       "Data Center Engineer - TS/SCI w/Polygraph                                    1\n",
       "Sr Tax Research Analyst / SME – VAT Determination                            1\n",
       "Senior Engineer, Software Development (Machine Learning)                     1\n",
       "Name: title, Length: 122, dtype: int64"
      ]
     },
     "execution_count": 75,
     "metadata": {},
     "output_type": "execute_result"
    }
   ],
   "source": [
    "data.title.value_counts()"
   ]
  },
  {
   "cell_type": "code",
   "execution_count": 35,
   "metadata": {
    "ExecuteTime": {
     "end_time": "2018-12-30T18:40:51.931327Z",
     "start_time": "2018-12-30T18:40:51.673765Z"
    },
    "scrolled": false
   },
   "outputs": [
    {
     "data": {
      "text/plain": [
       "<matplotlib.axes._subplots.AxesSubplot at 0x115f54588>"
      ]
     },
     "execution_count": 35,
     "metadata": {},
     "output_type": "execute_result"
    },
    {
     "data": {
      "image/png": "[encoded data removed]",
      "text/plain": [
       "<Figure size 432x288 with 1 Axes>"
      ]
     },
     "metadata": {},
     "output_type": "display_data"
    }
   ],
   "source": [
    "data.company.value_counts().sort_values().tail(20).plot(kind='barh')"
   ]
  },
  {
   "cell_type": "code",
   "execution_count": 44,
   "metadata": {
    "ExecuteTime": {
     "end_time": "2018-12-30T18:45:44.791971Z",
     "start_time": "2018-12-30T18:45:44.777700Z"
    },
    "scrolled": false
   },
   "outputs": [
    {
     "name": "stdout",
     "output_type": "stream",
     "text": [
      "<class 'pandas.core.frame.DataFrame'>\n",
      "Int64Index: 155 entries, 0 to 229\n",
      "Data columns (total 2 columns):\n",
      "company    155 non-null object\n",
      "desc       155 non-null object\n",
      "dtypes: object(2)\n",
      "memory usage: 3.6+ KB\n"
     ]
    }
   ],
   "source": [
    "data_json[['company','desc']].drop_duplicates().info()"
   ]
  },
  {
   "cell_type": "code",
   "execution_count": 70,
   "metadata": {
    "ExecuteTime": {
     "end_time": "2018-12-30T18:55:05.890815Z",
     "start_time": "2018-12-30T18:55:05.881980Z"
    }
   },
   "outputs": [
    {
     "name": "stdout",
     "output_type": "stream",
     "text": [
      "<class 'pandas.core.frame.DataFrame'>\n",
      "Int64Index: 91 entries, 25 to 537\n",
      "Data columns (total 5 columns):\n",
      "company     91 non-null object\n",
      "desc        91 non-null object\n",
      "link        91 non-null object\n",
      "location    91 non-null object\n",
      "title       91 non-null object\n",
      "dtypes: object(5)\n",
      "memory usage: 4.3+ KB\n"
     ]
    }
   ],
   "source": [
    "data[data['company']=='Veritude'].info()"
   ]
  },
  {
   "cell_type": "code",
   "execution_count": 74,
   "metadata": {
    "ExecuteTime": {
     "end_time": "2018-12-30T18:55:29.872024Z",
     "start_time": "2018-12-30T18:55:29.861247Z"
    }
   },
   "outputs": [
    {
     "name": "stdout",
     "output_type": "stream",
     "text": [
      "<class 'pandas.core.frame.DataFrame'>\n",
      "Int64Index: 4 entries, 25 to 123\n",
      "Data columns (total 1 columns):\n",
      "desc    4 non-null object\n",
      "dtypes: object(1)\n",
      "memory usage: 64.0+ bytes\n"
     ]
    }
   ],
   "source": [
    "data[data['company']=='Veritude'][['desc']].drop_duplicates().info()"
   ]
  },
  {
   "cell_type": "code",
   "execution_count": 58,
   "metadata": {
    "ExecuteTime": {
     "end_time": "2018-12-30T18:49:42.118285Z",
     "start_time": "2018-12-30T18:49:42.112103Z"
    },
    "scrolled": true
   },
   "outputs": [],
   "source": [
    "desc_1 = data.desc.value_counts().head(1).index.format()[0]"
   ]
  },
  {
   "cell_type": "code",
   "execution_count": 68,
   "metadata": {
    "ExecuteTime": {
     "end_time": "2018-12-30T18:54:35.506108Z",
     "start_time": "2018-12-30T18:54:35.497247Z"
    }
   },
   "outputs": [
    {
     "data": {
      "text/html": [
       "<div>\n",
       "<style scoped>\n",
       "    .dataframe tbody tr th:only-of-type {\n",
       "        vertical-align: middle;\n",
       "    }\n",
       "\n",
       "    .dataframe tbody tr th {\n",
       "        vertical-align: top;\n",
       "    }\n",
       "\n",
       "    .dataframe thead th {\n",
       "        text-align: right;\n",
       "    }\n",
       "</style>\n",
       "<table border=\"1\" class=\"dataframe\">\n",
       "  <thead>\n",
       "    <tr style=\"text-align: right;\">\n",
       "      <th></th>\n",
       "      <th>company</th>\n",
       "      <th>desc</th>\n",
       "      <th>link</th>\n",
       "      <th>location</th>\n",
       "      <th>title</th>\n",
       "    </tr>\n",
       "  </thead>\n",
       "  <tbody>\n",
       "  </tbody>\n",
       "</table>\n",
       "</div>"
      ],
      "text/plain": [
       "Empty DataFrame\n",
       "Columns: [company, desc, link, location, title]\n",
       "Index: []"
      ]
     },
     "execution_count": 68,
     "metadata": {},
     "output_type": "execute_result"
    }
   ],
   "source": [
    "data[data['desc'] == desc_1]"
   ]
  },
  {
   "cell_type": "code",
   "execution_count": 65,
   "metadata": {
    "ExecuteTime": {
     "end_time": "2018-12-30T19:01:02.250756Z",
     "start_time": "2018-12-30T19:01:02.241896Z"
    }
   },
   "outputs": [
    {
     "data": {
      "text/plain": [
       "Veritude                                             91\n",
       "Bandwidth                                            91\n",
       "First Citizens Bank & Trust Company                  89\n",
       "Hill-Rom                                             64\n",
       "NTT DATA Services                                    47\n",
       "Cengage                                              20\n",
       "Duke University and Duke University Health System    10\n",
       "IQVIA                                                 7\n",
       "Cisco                                                 4\n",
       "Resolvit, LLC                                         4\n",
       "Conduent                                              3\n",
       "Pairwise                                              3\n",
       "Syneos Health Clinical                                3\n",
       "IBM                                                   3\n",
       "Red Hat, Inc.                                         3\n",
       "Hewlett Packard Enterprise                            2\n",
       "Avalara                                               2\n",
       "CoreCompete                                           2\n",
       "Cigna                                                 2\n",
       "Omnicell                                              2\n",
       "DrugDev                                               2\n",
       "Credit Suisse                                         2\n",
       "Covance                                               2\n",
       "MetLife                                               2\n",
       "SSI                                                   2\n",
       "State of North Carolina                               2\n",
       "BB&T                                                  2\n",
       "Baebies, Inc.                                         2\n",
       "Applied Research Associates, Inc                      2\n",
       "einfini technologies                                  2\n",
       "                                                     ..\n",
       "BioClinica                                            1\n",
       "IHS Markit                                            1\n",
       "Corning                                               1\n",
       "FMI Corporation                                       1\n",
       "Kuehne + Nagel                                        1\n",
       "Russell Tobin                                         1\n",
       "CREE                                                  1\n",
       "Thermo Fisher Scientific                              1\n",
       "Ferguson Enterprises, Inc.                            1\n",
       "Proofpoint                                            1\n",
       "Pentair                                               1\n",
       "Accenture                                             1\n",
       "Affluent                                              1\n",
       "ektello                                               1\n",
       "Computer Task Group                                   1\n",
       "LexisNexis                                            1\n",
       "Connections IT Services                               1\n",
       "Xylem                                                 1\n",
       "Lunarline                                             1\n",
       "Matrix Resources                                      1\n",
       "Automated Insights                                    1\n",
       "Deloitte                                              1\n",
       "Options Group                                         1\n",
       "Lorven Technologies                                   1\n",
       "KBI Biopharma                                         1\n",
       "Duke Clinical Research Institute                      1\n",
       "North Carolina State University                       1\n",
       "DTG Consulting Solutions, Inc.                        1\n",
       "Google                                                1\n",
       "INE                                                   1\n",
       "Name: company, Length: 103, dtype: int64"
      ]
     },
     "execution_count": 65,
     "metadata": {},
     "output_type": "execute_result"
    }
   ],
   "source": [
    "data.company.value_counts()"
   ]
  },
  {
   "cell_type": "code",
   "execution_count": 65,
   "metadata": {
    "ExecuteTime": {
     "end_time": "2018-12-30T19:01:02.250756Z",
     "start_time": "2018-12-30T19:01:02.241896Z"
    }
   },
   "outputs": [
    {
     "data": {
      "text/plain": [
       "Veritude                                             91\n",
       "Bandwidth                                            91\n",
       "First Citizens Bank & Trust Company                  89\n",
       "Hill-Rom                                             64\n",
       "NTT DATA Services                                    47\n",
       "Cengage                                              20\n",
       "Duke University and Duke University Health System    10\n",
       "IQVIA                                                 7\n",
       "Cisco                                                 4\n",
       "Resolvit, LLC                                         4\n",
       "Conduent                                              3\n",
       "Pairwise                                              3\n",
       "Syneos Health Clinical                                3\n",
       "IBM                                                   3\n",
       "Red Hat, Inc.                                         3\n",
       "Hewlett Packard Enterprise                            2\n",
       "Avalara                                               2\n",
       "CoreCompete                                           2\n",
       "Cigna                                                 2\n",
       "Omnicell                                              2\n",
       "DrugDev                                               2\n",
       "Credit Suisse                                         2\n",
       "Covance                                               2\n",
       "MetLife                                               2\n",
       "SSI                                                   2\n",
       "State of North Carolina                               2\n",
       "BB&T                                                  2\n",
       "Baebies, Inc.                                         2\n",
       "Applied Research Associates, Inc                      2\n",
       "einfini technologies                                  2\n",
       "                                                     ..\n",
       "BioClinica                                            1\n",
       "IHS Markit                                            1\n",
       "Corning                                               1\n",
       "FMI Corporation                                       1\n",
       "Kuehne + Nagel                                        1\n",
       "Russell Tobin                                         1\n",
       "CREE                                                  1\n",
       "Thermo Fisher Scientific                              1\n",
       "Ferguson Enterprises, Inc.                            1\n",
       "Proofpoint                                            1\n",
       "Pentair                                               1\n",
       "Accenture                                             1\n",
       "Affluent                                              1\n",
       "ektello                                               1\n",
       "Computer Task Group                                   1\n",
       "LexisNexis                                            1\n",
       "Connections IT Services                               1\n",
       "Xylem                                                 1\n",
       "Lunarline                                             1\n",
       "Matrix Resources                                      1\n",
       "Automated Insights                                    1\n",
       "Deloitte                                              1\n",
       "Options Group                                         1\n",
       "Lorven Technologies                                   1\n",
       "KBI Biopharma                                         1\n",
       "Duke Clinical Research Institute                      1\n",
       "North Carolina State University                       1\n",
       "DTG Consulting Solutions, Inc.                        1\n",
       "Google                                                1\n",
       "INE                                                   1\n",
       "Name: company, Length: 103, dtype: int64"
      ]
     },
     "execution_count": 65,
     "metadata": {},
     "output_type": "execute_result"
    }
   ],
   "source": [
    "data.company.value_counts()"
   ]
  },
  {
   "cell_type": "code",
   "execution_count": 80,
   "metadata": {
    "ExecuteTime": {
     "end_time": "2018-12-30T19:18:13.245349Z",
     "start_time": "2018-12-30T19:18:13.231858Z"
    }
   },
   "outputs": [
    {
     "name": "stdout",
     "output_type": "stream",
     "text": [
      "<class 'pandas.core.frame.DataFrame'>\n",
      "Int64Index: 155 entries, 0 to 229\n",
      "Data columns (total 5 columns):\n",
      "company     155 non-null object\n",
      "desc        155 non-null object\n",
      "link        155 non-null object\n",
      "location    155 non-null object\n",
      "title       155 non-null object\n",
      "dtypes: object(5)\n",
      "memory usage: 7.3+ KB\n"
     ]
    }
   ],
   "source": [
    "data = data.drop_duplicates(['company','desc']).info()"
   ]
  },
  {
   "cell_type": "markdown",
   "metadata": {},
   "source": [
    "# remove punctuation"
   ]
  },
  {
   "cell_type": "code",
   "execution_count": 85,
   "metadata": {
    "ExecuteTime": {
     "end_time": "2018-12-30T19:24:15.695953Z",
     "start_time": "2018-12-30T19:24:15.683449Z"
    }
   },
   "outputs": [
    {
     "data": {
      "text/html": [
       "<div>\n",
       "<style scoped>\n",
       "    .dataframe tbody tr th:only-of-type {\n",
       "        vertical-align: middle;\n",
       "    }\n",
       "\n",
       "    .dataframe tbody tr th {\n",
       "        vertical-align: top;\n",
       "    }\n",
       "\n",
       "    .dataframe thead th {\n",
       "        text-align: right;\n",
       "    }\n",
       "</style>\n",
       "<table border=\"1\" class=\"dataframe\">\n",
       "  <thead>\n",
       "    <tr style=\"text-align: right;\">\n",
       "      <th></th>\n",
       "      <th>company</th>\n",
       "      <th>desc</th>\n",
       "      <th>link</th>\n",
       "      <th>location</th>\n",
       "      <th>title</th>\n",
       "    </tr>\n",
       "  </thead>\n",
       "  <tbody>\n",
       "    <tr>\n",
       "      <th>0</th>\n",
       "      <td>Red Hat, Inc.</td>\n",
       "      <td>Internship, CommissionAt Red Hat, we connect a...</td>\n",
       "      <td>https://www.indeed.com/viewjob?jk=4ca8fc08fe78...</td>\n",
       "      <td>Red Hat, Inc.179 reviews-Raleigh, NC</td>\n",
       "      <td>Data Scientist Internship</td>\n",
       "    </tr>\n",
       "    <tr>\n",
       "      <th>1</th>\n",
       "      <td>Lunarline</td>\n",
       "      <td>Title: Data Leakage Protection (DLP) Engineer\\...</td>\n",
       "      <td>https://www.indeed.com/viewjob?jk=d1f6b37b44e5...</td>\n",
       "      <td>Lunarline3 reviews-Morrisville, NC</td>\n",
       "      <td>Data Leakage Protection (DLP) Engineer</td>\n",
       "    </tr>\n",
       "    <tr>\n",
       "      <th>2</th>\n",
       "      <td>Automated Insights</td>\n",
       "      <td>InternshipAbout Automated Insights\\n\\nAutomate...</td>\n",
       "      <td>https://www.indeed.com/viewjob?jk=76b11e68bdac...</td>\n",
       "      <td>Automated Insights2 reviews-Durham, NC 27701</td>\n",
       "      <td>Data Science, Intern</td>\n",
       "    </tr>\n",
       "    <tr>\n",
       "      <th>3</th>\n",
       "      <td>Google</td>\n",
       "      <td>Note: By applying to this position your applic...</td>\n",
       "      <td>https://www.indeed.com/viewjob?jk=61e881a747ba...</td>\n",
       "      <td>Google2,734 reviews-Chapel Hill, NC 27516</td>\n",
       "      <td>Developer Advocate, Data Science Education</td>\n",
       "    </tr>\n",
       "    <tr>\n",
       "      <th>4</th>\n",
       "      <td>IQVIA</td>\n",
       "      <td>Join us on our exciting journey! IQVIA™ is The...</td>\n",
       "      <td>https://www.indeed.com/viewjob?jk=d610f35e2cb6...</td>\n",
       "      <td>IQVIA161 reviews-Durham, NC</td>\n",
       "      <td>Project Management Analyst</td>\n",
       "    </tr>\n",
       "  </tbody>\n",
       "</table>\n",
       "</div>"
      ],
      "text/plain": [
       "              company                                               desc  \\\n",
       "0       Red Hat, Inc.  Internship, CommissionAt Red Hat, we connect a...   \n",
       "1           Lunarline  Title: Data Leakage Protection (DLP) Engineer\\...   \n",
       "2  Automated Insights  InternshipAbout Automated Insights\\n\\nAutomate...   \n",
       "3              Google  Note: By applying to this position your applic...   \n",
       "4               IQVIA  Join us on our exciting journey! IQVIA™ is The...   \n",
       "\n",
       "                                                link  \\\n",
       "0  https://www.indeed.com/viewjob?jk=4ca8fc08fe78...   \n",
       "1  https://www.indeed.com/viewjob?jk=d1f6b37b44e5...   \n",
       "2  https://www.indeed.com/viewjob?jk=76b11e68bdac...   \n",
       "3  https://www.indeed.com/viewjob?jk=61e881a747ba...   \n",
       "4  https://www.indeed.com/viewjob?jk=d610f35e2cb6...   \n",
       "\n",
       "                                       location  \\\n",
       "0          Red Hat, Inc.179 reviews-Raleigh, NC   \n",
       "1            Lunarline3 reviews-Morrisville, NC   \n",
       "2  Automated Insights2 reviews-Durham, NC 27701   \n",
       "3     Google2,734 reviews-Chapel Hill, NC 27516   \n",
       "4                   IQVIA161 reviews-Durham, NC   \n",
       "\n",
       "                                        title  \n",
       "0                   Data Scientist Internship  \n",
       "1      Data Leakage Protection (DLP) Engineer  \n",
       "2                        Data Science, Intern  \n",
       "3  Developer Advocate, Data Science Education  \n",
       "4                  Project Management Analyst  "
      ]
     },
     "execution_count": 85,
     "metadata": {},
     "output_type": "execute_result"
    }
   ],
   "source": [
    "data.head()"
   ]
  },
  {
   "cell_type": "code",
   "execution_count": 86,
   "metadata": {
    "ExecuteTime": {
     "end_time": "2018-12-30T19:27:43.031769Z",
     "start_time": "2018-12-30T19:27:42.113376Z"
    }
   },
   "outputs": [
    {
     "name": "stderr",
     "output_type": "stream",
     "text": [
      "/anaconda3/lib/python3.6/site-packages/ipykernel_launcher.py:3: SettingWithCopyWarning: \n",
      "A value is trying to be set on a copy of a slice from a DataFrame.\n",
      "Try using .loc[row_indexer,col_indexer] = value instead\n",
      "\n",
      "See the caveats in the documentation: http://pandas.pydata.org/pandas-docs/stable/indexing.html#indexing-view-versus-copy\n",
      "  This is separate from the ipykernel package so we can avoid doing imports until\n",
      "/anaconda3/lib/python3.6/site-packages/ipykernel_launcher.py:4: SettingWithCopyWarning: \n",
      "A value is trying to be set on a copy of a slice from a DataFrame.\n",
      "Try using .loc[row_indexer,col_indexer] = value instead\n",
      "\n",
      "See the caveats in the documentation: http://pandas.pydata.org/pandas-docs/stable/indexing.html#indexing-view-versus-copy\n",
      "  after removing the cwd from sys.path.\n"
     ]
    },
    {
     "data": {
      "text/plain": [
       "count    345.000000\n",
       "mean      20.501449\n",
       "std       14.428477\n",
       "min        1.000000\n",
       "25%        9.000000\n",
       "50%       18.000000\n",
       "75%       28.000000\n",
       "max       70.000000\n",
       "Name: reviewsenlen, dtype: float64"
      ]
     },
     "execution_count": 86,
     "metadata": {},
     "output_type": "execute_result"
    },
    {
     "data": {
      "image/png": "[encoded data removed]",
      "text/plain": [
       "<Figure size 432x288 with 1 Axes>"
      ]
     },
     "metadata": {},
     "output_type": "display_data"
    }
   ],
   "source": [
    "# get sentences of review\n",
    "default_st=nltk.sent_tokenize\n",
    "data['reviewsen']=data.desc.apply(lambda x: default_st(text=x))\n",
    "data['reviewsenlen']=data.reviewsen.apply(len)\n",
    "# review sentences stat\n",
    "data.hist('reviewsenlen')\n",
    "data['reviewsenlen'].describe()"
   ]
  },
  {
   "cell_type": "code",
   "execution_count": 87,
   "metadata": {
    "ExecuteTime": {
     "end_time": "2018-12-30T19:31:42.831680Z",
     "start_time": "2018-12-30T19:31:40.429341Z"
    }
   },
   "outputs": [
    {
     "name": "stderr",
     "output_type": "stream",
     "text": [
      "/anaconda3/lib/python3.6/site-packages/ipykernel_launcher.py:3: SettingWithCopyWarning: \n",
      "A value is trying to be set on a copy of a slice from a DataFrame.\n",
      "Try using .loc[row_indexer,col_indexer] = value instead\n",
      "\n",
      "See the caveats in the documentation: http://pandas.pydata.org/pandas-docs/stable/indexing.html#indexing-view-versus-copy\n",
      "  This is separate from the ipykernel package so we can avoid doing imports until\n",
      "/anaconda3/lib/python3.6/site-packages/ipykernel_launcher.py:4: SettingWithCopyWarning: \n",
      "A value is trying to be set on a copy of a slice from a DataFrame.\n",
      "Try using .loc[row_indexer,col_indexer] = value instead\n",
      "\n",
      "See the caveats in the documentation: http://pandas.pydata.org/pandas-docs/stable/indexing.html#indexing-view-versus-copy\n",
      "  after removing the cwd from sys.path.\n"
     ]
    },
    {
     "data": {
      "text/plain": [
       "count     345.000000\n",
       "mean      602.000000\n",
       "std       301.990855\n",
       "min        28.000000\n",
       "25%       388.000000\n",
       "50%       559.000000\n",
       "75%       784.000000\n",
       "max      2042.000000\n",
       "Name: reviewwordlen, dtype: float64"
      ]
     },
     "execution_count": 87,
     "metadata": {},
     "output_type": "execute_result"
    },
    {
     "data": {
      "image/png": "[encoded data removed]",
      "text/plain": [
       "<Figure size 432x288 with 1 Axes>"
      ]
     },
     "metadata": {},
     "output_type": "display_data"
    }
   ],
   "source": [
    "# get sentences of review\n",
    "default_wt=nltk.word_tokenize\n",
    "data['reviewword']=data.desc.apply(lambda x: default_wt(text=x))\n",
    "data['reviewwordlen']=data.reviewword.apply(len)\n",
    "# review sentences stat\n",
    "data.hist('reviewwordlen')\n",
    "data['reviewwordlen'].describe()"
   ]
  },
  {
   "cell_type": "code",
   "execution_count": 88,
   "metadata": {
    "ExecuteTime": {
     "end_time": "2018-12-30T19:33:35.761180Z",
     "start_time": "2018-12-30T19:33:35.733491Z"
    }
   },
   "outputs": [
    {
     "data": {
      "text/html": [
       "<div>\n",
       "<style scoped>\n",
       "    .dataframe tbody tr th:only-of-type {\n",
       "        vertical-align: middle;\n",
       "    }\n",
       "\n",
       "    .dataframe tbody tr th {\n",
       "        vertical-align: top;\n",
       "    }\n",
       "\n",
       "    .dataframe thead th {\n",
       "        text-align: right;\n",
       "    }\n",
       "</style>\n",
       "<table border=\"1\" class=\"dataframe\">\n",
       "  <thead>\n",
       "    <tr style=\"text-align: right;\">\n",
       "      <th></th>\n",
       "      <th>company</th>\n",
       "      <th>desc</th>\n",
       "      <th>link</th>\n",
       "      <th>location</th>\n",
       "      <th>title</th>\n",
       "      <th>reviewsen</th>\n",
       "      <th>reviewsenlen</th>\n",
       "      <th>reviewword</th>\n",
       "      <th>reviewwordlen</th>\n",
       "    </tr>\n",
       "  </thead>\n",
       "  <tbody>\n",
       "    <tr>\n",
       "      <th>0</th>\n",
       "      <td>Red Hat, Inc.</td>\n",
       "      <td>Internship, CommissionAt Red Hat, we connect a...</td>\n",
       "      <td>https://www.indeed.com/viewjob?jk=4ca8fc08fe78...</td>\n",
       "      <td>Red Hat, Inc.179 reviews-Raleigh, NC</td>\n",
       "      <td>Data Scientist Internship</td>\n",
       "      <td>[Internship, CommissionAt Red Hat, we connect ...</td>\n",
       "      <td>11</td>\n",
       "      <td>[Internship, ,, CommissionAt, Red, Hat, ,, we,...</td>\n",
       "      <td>496</td>\n",
       "    </tr>\n",
       "    <tr>\n",
       "      <th>1</th>\n",
       "      <td>Lunarline</td>\n",
       "      <td>Title: Data Leakage Protection (DLP) Engineer\\...</td>\n",
       "      <td>https://www.indeed.com/viewjob?jk=d1f6b37b44e5...</td>\n",
       "      <td>Lunarline3 reviews-Morrisville, NC</td>\n",
       "      <td>Data Leakage Protection (DLP) Engineer</td>\n",
       "      <td>[Title: Data Leakage Protection (DLP) Engineer...</td>\n",
       "      <td>19</td>\n",
       "      <td>[Title, :, Data, Leakage, Protection, (, DLP, ...</td>\n",
       "      <td>263</td>\n",
       "    </tr>\n",
       "    <tr>\n",
       "      <th>2</th>\n",
       "      <td>Automated Insights</td>\n",
       "      <td>InternshipAbout Automated Insights\\n\\nAutomate...</td>\n",
       "      <td>https://www.indeed.com/viewjob?jk=76b11e68bdac...</td>\n",
       "      <td>Automated Insights2 reviews-Durham, NC 27701</td>\n",
       "      <td>Data Science, Intern</td>\n",
       "      <td>[InternshipAbout Automated Insights\\n\\nAutomat...</td>\n",
       "      <td>26</td>\n",
       "      <td>[InternshipAbout, Automated, Insights, Automat...</td>\n",
       "      <td>506</td>\n",
       "    </tr>\n",
       "    <tr>\n",
       "      <th>3</th>\n",
       "      <td>Google</td>\n",
       "      <td>Note: By applying to this position your applic...</td>\n",
       "      <td>https://www.indeed.com/viewjob?jk=61e881a747ba...</td>\n",
       "      <td>Google2,734 reviews-Chapel Hill, NC 27516</td>\n",
       "      <td>Developer Advocate, Data Science Education</td>\n",
       "      <td>[Note: By applying to this position your appli...</td>\n",
       "      <td>27</td>\n",
       "      <td>[Note, :, By, applying, to, this, position, yo...</td>\n",
       "      <td>562</td>\n",
       "    </tr>\n",
       "    <tr>\n",
       "      <th>4</th>\n",
       "      <td>IQVIA</td>\n",
       "      <td>Join us on our exciting journey! IQVIA™ is The...</td>\n",
       "      <td>https://www.indeed.com/viewjob?jk=d610f35e2cb6...</td>\n",
       "      <td>IQVIA161 reviews-Durham, NC</td>\n",
       "      <td>Project Management Analyst</td>\n",
       "      <td>[Join us on our exciting journey!, IQVIA™ is T...</td>\n",
       "      <td>24</td>\n",
       "      <td>[Join, us, on, our, exciting, journey, !, IQVI...</td>\n",
       "      <td>592</td>\n",
       "    </tr>\n",
       "  </tbody>\n",
       "</table>\n",
       "</div>"
      ],
      "text/plain": [
       "              company                                               desc  \\\n",
       "0       Red Hat, Inc.  Internship, CommissionAt Red Hat, we connect a...   \n",
       "1           Lunarline  Title: Data Leakage Protection (DLP) Engineer\\...   \n",
       "2  Automated Insights  InternshipAbout Automated Insights\\n\\nAutomate...   \n",
       "3              Google  Note: By applying to this position your applic...   \n",
       "4               IQVIA  Join us on our exciting journey! IQVIA™ is The...   \n",
       "\n",
       "                                                link  \\\n",
       "0  https://www.indeed.com/viewjob?jk=4ca8fc08fe78...   \n",
       "1  https://www.indeed.com/viewjob?jk=d1f6b37b44e5...   \n",
       "2  https://www.indeed.com/viewjob?jk=76b11e68bdac...   \n",
       "3  https://www.indeed.com/viewjob?jk=61e881a747ba...   \n",
       "4  https://www.indeed.com/viewjob?jk=d610f35e2cb6...   \n",
       "\n",
       "                                       location  \\\n",
       "0          Red Hat, Inc.179 reviews-Raleigh, NC   \n",
       "1            Lunarline3 reviews-Morrisville, NC   \n",
       "2  Automated Insights2 reviews-Durham, NC 27701   \n",
       "3     Google2,734 reviews-Chapel Hill, NC 27516   \n",
       "4                   IQVIA161 reviews-Durham, NC   \n",
       "\n",
       "                                        title  \\\n",
       "0                   Data Scientist Internship   \n",
       "1      Data Leakage Protection (DLP) Engineer   \n",
       "2                        Data Science, Intern   \n",
       "3  Developer Advocate, Data Science Education   \n",
       "4                  Project Management Analyst   \n",
       "\n",
       "                                           reviewsen  reviewsenlen  \\\n",
       "0  [Internship, CommissionAt Red Hat, we connect ...            11   \n",
       "1  [Title: Data Leakage Protection (DLP) Engineer...            19   \n",
       "2  [InternshipAbout Automated Insights\\n\\nAutomat...            26   \n",
       "3  [Note: By applying to this position your appli...            27   \n",
       "4  [Join us on our exciting journey!, IQVIA™ is T...            24   \n",
       "\n",
       "                                          reviewword  reviewwordlen  \n",
       "0  [Internship, ,, CommissionAt, Red, Hat, ,, we,...            496  \n",
       "1  [Title, :, Data, Leakage, Protection, (, DLP, ...            263  \n",
       "2  [InternshipAbout, Automated, Insights, Automat...            506  \n",
       "3  [Note, :, By, applying, to, this, position, yo...            562  \n",
       "4  [Join, us, on, our, exciting, journey, !, IQVI...            592  "
      ]
     },
     "execution_count": 88,
     "metadata": {},
     "output_type": "execute_result"
    }
   ],
   "source": [
    "data.head()"
   ]
  },
  {
   "cell_type": "code",
   "execution_count": 89,
   "metadata": {
    "ExecuteTime": {
     "end_time": "2018-12-30T19:36:05.287218Z",
     "start_time": "2018-12-30T19:36:05.275892Z"
    }
   },
   "outputs": [],
   "source": [
    "stopwords = nltk.corpus.stopwords.words('english')\n",
    "stopwords.extend(('pizza','pizzas','would','dont','didnt'))\n",
    "string.punctuation\n",
    "nolem = []\n",
    "wn = nltk.WordNetLemmatizer()\n",
    "ps = nltk.PorterStemmer()\n",
    "\n",
    "def clean_text(text, join=False, stem='lemmatize'):\n",
    "    # lower case and remove punctuation, here word is char so need '' to join these char back\n",
    "    text = ''.join([word.lower() for word in text if word not in string.punctuation])\n",
    "    \n",
    "    text=re.sub(r'\\d+', '', text)\n",
    "    \n",
    "    # break down to tokens (single word)\n",
    "    tokens = re.split('\\W+', text)\n",
    "    \n",
    "    # special words no lemmatize, and remove stop words\n",
    "    # elif list comprehension: [if-1 condition_1 else_2 for_statement <condition_2>]\n",
    "    \n",
    "    if stem == 'lemmatize':\n",
    "        if join == True:\n",
    "            text = ' '.join([word if word in nolem else wn.lemmatize(word,'v') for word in tokens if word not in stopwords ])\n",
    "        else:\n",
    "            text = [word if word in nolem else wn.lemmatize(word,'v') for word in tokens if word not in stopwords ]\n",
    "    elif stem == 'stem':\n",
    "        if join == True:\n",
    "            text = ' '.join([word if word in nolem else ps.stem(word) for word in tokens if word not in stopwords ])\n",
    "        else:\n",
    "            text = [word if word in nolem else ps.stem(word) for word in tokens if word not in stopwords ]\n",
    "    #nostop = [word for word in tokens if word not in stopwords]\n",
    "    #text = [wn.lemmatize(word) if word not in nolem else word for word in nostop]\n",
    "    #text=[]\n",
    "    #for word in tokens:\n",
    "    #    if word in nolem:\n",
    "    #        text.append(word)\n",
    "    #    elif word not in stopwords:\n",
    "    #        text.append(wn.lemmatize(word))\n",
    "    return text"
   ]
  },
  {
   "cell_type": "code",
   "execution_count": 90,
   "metadata": {
    "ExecuteTime": {
     "end_time": "2018-12-30T19:36:10.934248Z",
     "start_time": "2018-12-30T19:36:06.266616Z"
    }
   },
   "outputs": [
    {
     "name": "stderr",
     "output_type": "stream",
     "text": [
      "/anaconda3/lib/python3.6/site-packages/ipykernel_launcher.py:1: SettingWithCopyWarning: \n",
      "A value is trying to be set on a copy of a slice from a DataFrame.\n",
      "Try using .loc[row_indexer,col_indexer] = value instead\n",
      "\n",
      "See the caveats in the documentation: http://pandas.pydata.org/pandas-docs/stable/indexing.html#indexing-view-versus-copy\n",
      "  \"\"\"Entry point for launching an IPython kernel.\n"
     ]
    }
   ],
   "source": [
    "data['cleaned_desc']=data['desc'].apply(clean_text)"
   ]
  },
  {
   "cell_type": "code",
   "execution_count": 92,
   "metadata": {
    "ExecuteTime": {
     "end_time": "2018-12-30T19:37:06.651132Z",
     "start_time": "2018-12-30T19:37:06.642442Z"
    }
   },
   "outputs": [
    {
     "data": {
      "text/plain": [
       "0    [internship, commissionat, red, hat, connect, ...\n",
       "1    [title, data, leakage, protection, dlp, engine...\n",
       "2    [internshipabout, automate, insights, automate...\n",
       "3    [note, apply, position, application, automatic...\n",
       "4    [join, us, excite, journey, iqvia, human, data...\n",
       "Name: cleaned_desc, dtype: object"
      ]
     },
     "execution_count": 92,
     "metadata": {},
     "output_type": "execute_result"
    }
   ],
   "source": [
    "data['cleaned_desc'].head()"
   ]
  },
  {
   "cell_type": "markdown",
   "metadata": {},
   "source": [
    "# word cloud"
   ]
  },
  {
   "cell_type": "code",
   "execution_count": 93,
   "metadata": {
    "ExecuteTime": {
     "end_time": "2018-12-30T19:38:06.590114Z",
     "start_time": "2018-12-30T19:38:06.552489Z"
    }
   },
   "outputs": [],
   "source": [
    "import multidict as multidict\n",
    "import os\n",
    "from PIL import Image\n",
    "from os import path\n",
    "from wordcloud import WordCloud"
   ]
  },
  {
   "cell_type": "code",
   "execution_count": 101,
   "metadata": {
    "ExecuteTime": {
     "end_time": "2018-12-30T19:45:40.187035Z",
     "start_time": "2018-12-30T19:45:40.178133Z"
    }
   },
   "outputs": [],
   "source": [
    "text = [element for list_ in data['cleaned_desc'] for element in list_]"
   ]
  },
  {
   "cell_type": "code",
   "execution_count": 103,
   "metadata": {
    "ExecuteTime": {
     "end_time": "2018-12-30T19:45:45.752911Z",
     "start_time": "2018-12-30T19:45:45.744757Z"
    }
   },
   "outputs": [],
   "source": [
    "text = ' '.join(text)"
   ]
  },
  {
   "cell_type": "code",
   "execution_count": 112,
   "metadata": {
    "ExecuteTime": {
     "end_time": "2018-12-30T19:52:54.811093Z",
     "start_time": "2018-12-30T19:52:51.815452Z"
    }
   },
   "outputs": [],
   "source": [
    "# Generate a word cloud image\n",
    "\n",
    "wc = WordCloud(background_color=None, mode='RGBA', width=800, height=400,\n",
    "#                max_font_size=50,\n",
    "               max_words=3000,\n",
    "               colormap='tab20')\n",
    "\n",
    "wordcloud = wc.generate(text)"
   ]
  },
  {
   "cell_type": "code",
   "execution_count": 113,
   "metadata": {
    "ExecuteTime": {
     "end_time": "2018-12-30T19:52:55.550816Z",
     "start_time": "2018-12-30T19:52:55.151200Z"
    }
   },
   "outputs": [
    {
     "data": {
      "text/plain": [
       "(-0.5, 799.5, 399.5, -0.5)"
      ]
     },
     "execution_count": 113,
     "metadata": {},
     "output_type": "execute_result"
    },
    {
     "data": {
      "image/png": "[encoded data removed]",
      "text/plain": [
       "<Figure size 432x288 with 1 Axes>"
      ]
     },
     "metadata": {},
     "output_type": "display_data"
    }
   ],
   "source": [
    "plt.imshow(wordcloud, interpolation='bilinear')\n",
    "plt.axis(\"off\")"
   ]
  }
 ],
 "metadata": {
  "kernelspec": {
   "display_name": "Python 3",
   "language": "python",
   "name": "python3"
  },
  "language_info": {
   "codemirror_mode": {
    "name": "ipython",
    "version": 3
   },
   "file_extension": ".py",
   "mimetype": "text/x-python",
   "name": "python",
   "nbconvert_exporter": "python",
   "pygments_lexer": "ipython3",
   "version": "3.6.6"
  },
  "toc": {
   "base_numbering": 1,
   "nav_menu": {},
   "number_sections": true,
   "sideBar": true,
   "skip_h1_title": false,
   "title_cell": "Table of Contents",
   "title_sidebar": "Contents",
   "toc_cell": false,
   "toc_position": {},
   "toc_section_display": true,
   "toc_window_display": false
  },
  "varInspector": {
   "cols": {
    "lenName": 16,
    "lenType": 16,
    "lenVar": 40
   },
   "kernels_config": {
    "python": {
     "delete_cmd_postfix": "",
     "delete_cmd_prefix": "del ",
     "library": "var_list.py",
     "varRefreshCmd": "print(var_dic_list())"
    },
    "r": {
     "delete_cmd_postfix": ") ",
     "delete_cmd_prefix": "rm(",
     "library": "var_list.r",
     "varRefreshCmd": "cat(var_dic_list()) "
    }
   },
   "types_to_exclude": [
    "module",
    "function",
    "builtin_function_or_method",
    "instance",
    "_Feature"
   ],
   "window_display": false
  }
 },
 "nbformat": 4,
 "nbformat_minor": 2
}
