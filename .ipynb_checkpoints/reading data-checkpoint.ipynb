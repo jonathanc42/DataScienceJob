{
 "cells": [
  {
   "cell_type": "code",
   "execution_count": 1,
   "metadata": {
    "ExecuteTime": {
     "end_time": "2018-12-30T17:05:53.332678Z",
     "start_time": "2018-12-30T17:05:52.949443Z"
    }
   },
   "outputs": [],
   "source": [
    "import pandas as pd"
   ]
  },
  {
   "cell_type": "code",
   "execution_count": 3,
   "metadata": {
    "ExecuteTime": {
     "end_time": "2018-12-30T17:06:04.524508Z",
     "start_time": "2018-12-30T17:06:04.397274Z"
    },
    "scrolled": true
   },
   "outputs": [
    {
     "name": "stdout",
     "output_type": "stream",
     "text": [
      "\u001b[1m\u001b[36mdatasciencejob\u001b[m\u001b[m    indeed_pandas.csv parser-bs4.py\r\n",
      "indeed.html       indeed_result.csv scrapy.cfg\r\n",
      "indeed1.csv       indeed_test.csv   scrapy_test.json\r\n"
     ]
    }
   ],
   "source": [
    "!ls datasciencejob"
   ]
  },
  {
   "cell_type": "code",
   "execution_count": 49,
   "metadata": {
    "ExecuteTime": {
     "end_time": "2018-12-30T17:47:36.986790Z",
     "start_time": "2018-12-30T17:47:36.974368Z"
    }
   },
   "outputs": [
    {
     "name": "stdout",
     "output_type": "stream",
     "text": [
      "/Users/Quantum/GitHub/DataScienceJob/datasciencejob\n"
     ]
    }
   ],
   "source": [
    "cd datasciencejob/"
   ]
  },
  {
   "cell_type": "code",
   "execution_count": 52,
   "metadata": {
    "ExecuteTime": {
     "end_time": "2018-12-30T18:11:12.202850Z",
     "start_time": "2018-12-30T18:11:12.156223Z"
    },
    "scrolled": true
   },
   "outputs": [
    {
     "name": "stdout",
     "output_type": "stream",
     "text": [
      "<class 'pandas.core.frame.DataFrame'>\n",
      "RangeIndex: 547 entries, 0 to 546\n",
      "Data columns (total 5 columns):\n",
      "company     547 non-null object\n",
      "desc        547 non-null object\n",
      "link        547 non-null object\n",
      "location    547 non-null object\n",
      "title       547 non-null object\n",
      "dtypes: object(5)\n",
      "memory usage: 21.4+ KB\n",
      "None\n"
     ]
    },
    {
     "data": {
      "text/html": [
       "<div>\n",
       "<style scoped>\n",
       "    .dataframe tbody tr th:only-of-type {\n",
       "        vertical-align: middle;\n",
       "    }\n",
       "\n",
       "    .dataframe tbody tr th {\n",
       "        vertical-align: top;\n",
       "    }\n",
       "\n",
       "    .dataframe thead th {\n",
       "        text-align: right;\n",
       "    }\n",
       "</style>\n",
       "<table border=\"1\" class=\"dataframe\">\n",
       "  <thead>\n",
       "    <tr style=\"text-align: right;\">\n",
       "      <th></th>\n",
       "      <th>company</th>\n",
       "      <th>desc</th>\n",
       "      <th>link</th>\n",
       "      <th>location</th>\n",
       "      <th>title</th>\n",
       "    </tr>\n",
       "  </thead>\n",
       "  <tbody>\n",
       "    <tr>\n",
       "      <th>0</th>\n",
       "      <td>Pairwise</td>\n",
       "      <td>Overview\\nPairwise believes healthy food shoul...</td>\n",
       "      <td>https://www.indeed.com/viewjob?jk=73ab6e070c37...</td>\n",
       "      <td>Pairwise-Raleigh-Durham, NC</td>\n",
       "      <td>Data and Visual Analytics Engineer</td>\n",
       "    </tr>\n",
       "    <tr>\n",
       "      <th>1</th>\n",
       "      <td>Proofpoint</td>\n",
       "      <td>Company Overview\\nAt Proofpoint, we have a pas...</td>\n",
       "      <td>https://www.indeed.com/viewjob?jk=4fd6e1706ad3...</td>\n",
       "      <td>Proofpoint29 reviews-Raleigh, NC</td>\n",
       "      <td>Senior Data Scientist</td>\n",
       "    </tr>\n",
       "    <tr>\n",
       "      <th>2</th>\n",
       "      <td>Duke University</td>\n",
       "      <td>We are looking for a Postdoctoral Associate wi...</td>\n",
       "      <td>https://www.indeed.com/cmp/Duke-University/job...</td>\n",
       "      <td>Duke University859 reviews-Durham, NC</td>\n",
       "      <td>Postdoctoral Associate in Machine Learning for...</td>\n",
       "    </tr>\n",
       "    <tr>\n",
       "      <th>3</th>\n",
       "      <td>State of North Carolina</td>\n",
       "      <td>$55,000 - $75,000 a yearThis position has been...</td>\n",
       "      <td>https://www.indeed.com/viewjob?jk=bce2378117d1...</td>\n",
       "      <td>State of North Carolina208 reviews-Wake County...</td>\n",
       "      <td>Business Analyst</td>\n",
       "    </tr>\n",
       "    <tr>\n",
       "      <th>4</th>\n",
       "      <td>Kitware</td>\n",
       "      <td>InternshipJob Description:\\nKitware is develop...</td>\n",
       "      <td>https://www.indeed.com/viewjob?jk=2d541f2987ac...</td>\n",
       "      <td>Kitware-Carrboro, NC 27510</td>\n",
       "      <td>Research and Development Engineer - Machine Le...</td>\n",
       "    </tr>\n",
       "  </tbody>\n",
       "</table>\n",
       "</div>"
      ],
      "text/plain": [
       "                   company                                               desc  \\\n",
       "0                 Pairwise  Overview\\nPairwise believes healthy food shoul...   \n",
       "1               Proofpoint  Company Overview\\nAt Proofpoint, we have a pas...   \n",
       "2          Duke University  We are looking for a Postdoctoral Associate wi...   \n",
       "3  State of North Carolina  $55,000 - $75,000 a yearThis position has been...   \n",
       "4                  Kitware  InternshipJob Description:\\nKitware is develop...   \n",
       "\n",
       "                                                link  \\\n",
       "0  https://www.indeed.com/viewjob?jk=73ab6e070c37...   \n",
       "1  https://www.indeed.com/viewjob?jk=4fd6e1706ad3...   \n",
       "2  https://www.indeed.com/cmp/Duke-University/job...   \n",
       "3  https://www.indeed.com/viewjob?jk=bce2378117d1...   \n",
       "4  https://www.indeed.com/viewjob?jk=2d541f2987ac...   \n",
       "\n",
       "                                            location  \\\n",
       "0                        Pairwise-Raleigh-Durham, NC   \n",
       "1                   Proofpoint29 reviews-Raleigh, NC   \n",
       "2              Duke University859 reviews-Durham, NC   \n",
       "3  State of North Carolina208 reviews-Wake County...   \n",
       "4                         Kitware-Carrboro, NC 27510   \n",
       "\n",
       "                                               title  \n",
       "0                 Data and Visual Analytics Engineer  \n",
       "1                              Senior Data Scientist  \n",
       "2  Postdoctoral Associate in Machine Learning for...  \n",
       "3                                   Business Analyst  \n",
       "4  Research and Development Engineer - Machine Le...  "
      ]
     },
     "execution_count": 52,
     "metadata": {},
     "output_type": "execute_result"
    }
   ],
   "source": [
    "data = pd.read_json('scrapy-bs4-1000.json')\n",
    "print(data.info())\n",
    "data.head()"
   ]
  },
  {
   "cell_type": "code",
   "execution_count": null,
   "metadata": {},
   "outputs": [],
   "source": []
  },
  {
   "cell_type": "code",
   "execution_count": 11,
   "metadata": {
    "ExecuteTime": {
     "end_time": "2018-12-30T17:22:35.192588Z",
     "start_time": "2018-12-30T17:22:35.189832Z"
    }
   },
   "outputs": [],
   "source": [
    "a = 'aaa, - bbb'"
   ]
  },
  {
   "cell_type": "code",
   "execution_count": 22,
   "metadata": {
    "ExecuteTime": {
     "end_time": "2018-12-30T17:23:55.397315Z",
     "start_time": "2018-12-30T17:23:55.394332Z"
    }
   },
   "outputs": [],
   "source": [
    "import re"
   ]
  },
  {
   "cell_type": "code",
   "execution_count": 35,
   "metadata": {
    "ExecuteTime": {
     "end_time": "2018-12-30T17:28:09.040134Z",
     "start_time": "2018-12-30T17:28:09.037007Z"
    },
    "scrolled": true
   },
   "outputs": [],
   "source": [
    "test = re.split('[,-]',a)"
   ]
  },
  {
   "cell_type": "code",
   "execution_count": 38,
   "metadata": {
    "ExecuteTime": {
     "end_time": "2018-12-30T17:28:28.571920Z",
     "start_time": "2018-12-30T17:28:28.567001Z"
    },
    "scrolled": true
   },
   "outputs": [
    {
     "data": {
      "text/plain": [
       "<filter at 0x111e65d68>"
      ]
     },
     "execution_count": 38,
     "metadata": {},
     "output_type": "execute_result"
    }
   ],
   "source": [
    "filter(None, test)"
   ]
  },
  {
   "cell_type": "code",
   "execution_count": 42,
   "metadata": {
    "ExecuteTime": {
     "end_time": "2018-12-30T17:29:54.034977Z",
     "start_time": "2018-12-30T17:29:54.029086Z"
    }
   },
   "outputs": [
    {
     "data": {
      "text/plain": [
       "'aaa'"
      ]
     },
     "execution_count": 42,
     "metadata": {},
     "output_type": "execute_result"
    }
   ],
   "source": [
    "a.split('-')[0].split(',')[0]"
   ]
  },
  {
   "cell_type": "code",
   "execution_count": 44,
   "metadata": {
    "ExecuteTime": {
     "end_time": "2018-12-30T17:30:09.482339Z",
     "start_time": "2018-12-30T17:30:09.476665Z"
    }
   },
   "outputs": [
    {
     "data": {
      "text/plain": [
       "'aaa'"
      ]
     },
     "execution_count": 44,
     "metadata": {},
     "output_type": "execute_result"
    }
   ],
   "source": [
    "a.split(',')[0]"
   ]
  }
 ],
 "metadata": {
  "kernelspec": {
   "display_name": "Python 3",
   "language": "python",
   "name": "python3"
  },
  "language_info": {
   "codemirror_mode": {
    "name": "ipython",
    "version": 3
   },
   "file_extension": ".py",
   "mimetype": "text/x-python",
   "name": "python",
   "nbconvert_exporter": "python",
   "pygments_lexer": "ipython3",
   "version": "3.6.6"
  },
  "toc": {
   "base_numbering": 1,
   "nav_menu": {},
   "number_sections": true,
   "sideBar": true,
   "skip_h1_title": false,
   "title_cell": "Table of Contents",
   "title_sidebar": "Contents",
   "toc_cell": false,
   "toc_position": {},
   "toc_section_display": true,
   "toc_window_display": false
  },
  "varInspector": {
   "cols": {
    "lenName": 16,
    "lenType": 16,
    "lenVar": 40
   },
   "kernels_config": {
    "python": {
     "delete_cmd_postfix": "",
     "delete_cmd_prefix": "del ",
     "library": "var_list.py",
     "varRefreshCmd": "print(var_dic_list())"
    },
    "r": {
     "delete_cmd_postfix": ") ",
     "delete_cmd_prefix": "rm(",
     "library": "var_list.r",
     "varRefreshCmd": "cat(var_dic_list()) "
    }
   },
   "types_to_exclude": [
    "module",
    "function",
    "builtin_function_or_method",
    "instance",
    "_Feature"
   ],
   "window_display": false
  }
 },
 "nbformat": 4,
 "nbformat_minor": 2
}
